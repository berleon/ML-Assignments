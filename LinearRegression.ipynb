{
 "cells": [
  {
   "cell_type": "markdown",
   "metadata": {},
   "source": [
    "# Mustererkennung/Machine Learning - Assignment 2 Solution\n",
    "\n",
    "##### Questions to julian.stastny@fu-berlin.de"
   ]
  },
  {
   "cell_type": "code",
   "execution_count": 1,
   "metadata": {
    "ExecuteTime": {
     "end_time": "2018-10-31T16:26:45.637505Z",
     "start_time": "2018-10-31T16:26:45.267146Z"
    }
   },
   "outputs": [],
   "source": [
    "import numpy as np\n",
    "from numpy.linalg import pinv\n",
    "import pandas as pd\n",
    "from matplotlib import pyplot as plt"
   ]
  },
  {
   "cell_type": "code",
   "execution_count": 2,
   "metadata": {
    "ExecuteTime": {
     "end_time": "2018-10-31T16:26:46.001131Z",
     "start_time": "2018-10-31T16:26:45.639169Z"
    }
   },
   "outputs": [],
   "source": [
    "training_data = np.array(pd.read_csv('Data/zip.train', sep=' ', header=None))\n",
    "test_data = np.array(pd.read_csv('Data/zip.test', sep =' ',header=None))\n",
    "\n",
    "X_train, y_train = training_data[:,1:-1], training_data[:,0]\n",
    "X_test, y_test = test_data[:,1:], test_data[:,0]"
   ]
  },
  {
   "cell_type": "code",
   "execution_count": 3,
   "metadata": {
    "ExecuteTime": {
     "end_time": "2018-10-31T16:26:46.007787Z",
     "start_time": "2018-10-31T16:26:46.003001Z"
    }
   },
   "outputs": [],
   "source": [
    "class Classifier:\n",
    "  \n",
    "    def accuracy(self, labels, predictions):\n",
    "        return np.mean(labels == predictions)\n",
    "    \n",
    "    def confusion_matrix(self, labels, predictions):\n",
    "        size = len(set(labels))\n",
    "        matrix = np.zeros((size, size))\n",
    "        for correct, predicted in zip(labels.astype(int), predictions.astype(int)):\n",
    "            matrix[correct][predicted] += 1\n",
    "        return matrix"
   ]
  },
  {
   "cell_type": "markdown",
   "metadata": {},
   "source": [
    "### A naive first attempt: Using the numerical values of the labels"
   ]
  },
  {
   "cell_type": "code",
   "execution_count": 4,
   "metadata": {
    "ExecuteTime": {
     "end_time": "2018-10-31T16:26:46.014222Z",
     "start_time": "2018-10-31T16:26:46.011149Z"
    }
   },
   "outputs": [],
   "source": [
    "class LeastSquares:\n",
    "\n",
    "    def fit(self, X, y):\n",
    "        self.w = pinv(X.T@X)@X.T@y\n",
    "    \n",
    "    def predict(self, X):\n",
    "        predictions = X@self.w\n",
    "        return predictions"
   ]
  },
  {
   "cell_type": "code",
   "execution_count": 5,
   "metadata": {
    "ExecuteTime": {
     "end_time": "2018-10-31T16:26:46.022784Z",
     "start_time": "2018-10-31T16:26:46.016885Z"
    }
   },
   "outputs": [],
   "source": [
    "class NaiveAttempt(Classifier):\n",
    "    \n",
    "    def __init__(self):\n",
    "        self.model = LeastSquares()\n",
    "    \n",
    "    def fit(self, X, y):\n",
    "        self.model.fit(X, y)\n",
    "        \n",
    "    def predict(self, X):\n",
    "        predictions = self.model.predict(X)\n",
    "        predictions = np.around(predictions, decimals=0)\n",
    "        predictions[predictions>9] = 9 \n",
    "        predictions[predictions<0] = 0\n",
    "        return predictions"
   ]
  },
  {
   "cell_type": "code",
   "execution_count": 6,
   "metadata": {
    "ExecuteTime": {
     "end_time": "2018-10-31T16:26:46.030890Z",
     "start_time": "2018-10-31T16:26:46.027236Z"
    }
   },
   "outputs": [],
   "source": [
    "model = NaiveAttempt()"
   ]
  },
  {
   "cell_type": "code",
   "execution_count": 7,
   "metadata": {
    "ExecuteTime": {
     "end_time": "2018-10-31T16:26:46.186296Z",
     "start_time": "2018-10-31T16:26:46.035130Z"
    }
   },
   "outputs": [],
   "source": [
    "model.fit(X_train, y_train)"
   ]
  },
  {
   "cell_type": "code",
   "execution_count": 8,
   "metadata": {
    "ExecuteTime": {
     "end_time": "2018-10-31T16:26:46.194580Z",
     "start_time": "2018-10-31T16:26:46.188337Z"
    }
   },
   "outputs": [],
   "source": [
    "predictions = model.predict(X_test)"
   ]
  },
  {
   "cell_type": "code",
   "execution_count": 9,
   "metadata": {
    "ExecuteTime": {
     "end_time": "2018-10-31T16:26:46.203418Z",
     "start_time": "2018-10-31T16:26:46.196943Z"
    }
   },
   "outputs": [
    {
     "data": {
      "text/plain": [
       "0.25460886895864476"
      ]
     },
     "execution_count": 9,
     "metadata": {},
     "output_type": "execute_result"
    }
   ],
   "source": [
    "model.accuracy(y_test, predictions)"
   ]
  },
  {
   "cell_type": "markdown",
   "metadata": {},
   "source": [
    "Better than random, but really bad!"
   ]
  },
  {
   "cell_type": "code",
   "execution_count": 10,
   "metadata": {
    "ExecuteTime": {
     "end_time": "2018-10-31T16:26:46.214443Z",
     "start_time": "2018-10-31T16:26:46.205891Z"
    }
   },
   "outputs": [
    {
     "data": {
      "text/plain": [
       "array([[128., 108.,  65.,  39.,  12.,   4.,   3.,   0.,   0.,   0.],\n",
       "       [  6., 119.,  84.,  35.,  14.,   3.,   3.,   0.,   0.,   0.],\n",
       "       [ 14.,  20.,  41.,  43.,  46.,  24.,   7.,   3.,   0.,   0.],\n",
       "       [  2.,  10.,  24.,  39.,  41.,  37.,  11.,   2.,   0.,   0.],\n",
       "       [  0.,   1.,   5.,  12.,  40.,  46.,  40.,  39.,  14.,   3.],\n",
       "       [  3.,  10.,  17.,  23.,  33.,  31.,  28.,  11.,   3.,   1.],\n",
       "       [  0.,   5.,   8.,  16.,  47.,  52.,  36.,   4.,   2.,   0.],\n",
       "       [  0.,   0.,   1.,   3.,  10.,  20.,  45.,  47.,  18.,   3.],\n",
       "       [  2.,   1.,   3.,   4.,  24.,  30.,  50.,  34.,  14.,   4.],\n",
       "       [  0.,   0.,   0.,   2.,   9.,  17.,  22.,  55.,  56.,  16.]])"
      ]
     },
     "execution_count": 10,
     "metadata": {},
     "output_type": "execute_result"
    }
   ],
   "source": [
    "model.confusion_matrix(y_test, predictions)"
   ]
  },
  {
   "cell_type": "markdown",
   "metadata": {},
   "source": [
    "## One vs One"
   ]
  },
  {
   "cell_type": "code",
   "execution_count": 11,
   "metadata": {
    "ExecuteTime": {
     "end_time": "2018-10-31T16:26:46.237065Z",
     "start_time": "2018-10-31T16:26:46.216823Z"
    }
   },
   "outputs": [],
   "source": [
    "class OneVsOne(Classifier):\n",
    "    \n",
    "    def __init__(self, model):\n",
    "        self.model = model\n",
    "    \n",
    "    def fit(self, X, y):\n",
    "        self.X = X\n",
    "        self.y = y\n",
    "        classes = list(set(y))\n",
    "        self.num_classes = len(classes)\n",
    "        assert classes == list(range(self.num_classes)) # We need the labels to be 0,...,num_classes-1\n",
    "        self.binary_classifiers = self.build_all_binary_classifiers()\n",
    "        \n",
    "    def predict(self, X):\n",
    "        votes = np.zeros((self.num_classes, len(X)))\n",
    "        binary_predictions = self.predict_all_binary(X)\n",
    "        \n",
    "        for (i,j), prediction in binary_predictions.items():\n",
    "            votes[i] += (prediction < 0.5).astype(int)\n",
    "            votes[j] += (prediction >= 0.5).astype(int)\n",
    "        \n",
    "        predictions = np.argmax(votes, axis=0)\n",
    "        return predictions\n",
    "        \n",
    "    def predict_all_binary(self, X):\n",
    "        binary_predictions = {}\n",
    "        for i in range(self.num_classes):\n",
    "            for j in range(i+1, self.num_classes):\n",
    "                prediction = self.binary_classifiers[(i,j)].predict(X)\n",
    "                binary_predictions[(i,j)] = prediction\n",
    "        return binary_predictions\n",
    "    \n",
    "    def build_all_binary_classifiers(self):\n",
    "        binary_classifiers = {}\n",
    "        \n",
    "        for i in range(self.num_classes):\n",
    "            for j in range(i+1, self.num_classes):\n",
    "                \n",
    "                X_train, y_train = self.create_subset(i, j)\n",
    "                binary_classifiers[(i,j)] = self.build_one_binary_classifier(\n",
    "                    X_train, y_train)\n",
    "                \n",
    "        return binary_classifiers\n",
    "    \n",
    "    def build_one_binary_classifier(self, X_train, y_train):\n",
    "        classifier = self.model()\n",
    "        classifier.fit(X_train, y_train)\n",
    "        return classifier\n",
    "        \n",
    "    def create_subset(self, i, j):\n",
    "        X_i = self.X[self.y == i]\n",
    "        X_j = self.X[self.y == j]\n",
    "        X = np.concatenate((X_i, X_j))\n",
    "        y = [0] * len(X_i) + [1] * len(X_j)\n",
    "        return X, y"
   ]
  },
  {
   "cell_type": "code",
   "execution_count": 12,
   "metadata": {
    "ExecuteTime": {
     "end_time": "2018-10-31T16:26:46.247187Z",
     "start_time": "2018-10-31T16:26:46.241021Z"
    }
   },
   "outputs": [],
   "source": [
    "model = OneVsOne(LeastSquares)"
   ]
  },
  {
   "cell_type": "code",
   "execution_count": 13,
   "metadata": {
    "ExecuteTime": {
     "end_time": "2018-10-31T16:26:48.906088Z",
     "start_time": "2018-10-31T16:26:46.252000Z"
    }
   },
   "outputs": [],
   "source": [
    "model.fit(X_train, y_train)"
   ]
  },
  {
   "cell_type": "code",
   "execution_count": 14,
   "metadata": {
    "ExecuteTime": {
     "end_time": "2018-10-31T16:26:48.958230Z",
     "start_time": "2018-10-31T16:26:48.907656Z"
    }
   },
   "outputs": [],
   "source": [
    "predictions = model.predict(X_test)"
   ]
  },
  {
   "cell_type": "code",
   "execution_count": 15,
   "metadata": {
    "ExecuteTime": {
     "end_time": "2018-10-31T16:26:48.964071Z",
     "start_time": "2018-10-31T16:26:48.960079Z"
    }
   },
   "outputs": [
    {
     "data": {
      "text/plain": [
       "0.9162929745889388"
      ]
     },
     "execution_count": 15,
     "metadata": {},
     "output_type": "execute_result"
    }
   ],
   "source": [
    "model.accuracy(y_test, predictions)"
   ]
  },
  {
   "cell_type": "code",
   "execution_count": 16,
   "metadata": {
    "ExecuteTime": {
     "end_time": "2018-10-31T16:26:49.007570Z",
     "start_time": "2018-10-31T16:26:48.966383Z"
    }
   },
   "outputs": [
    {
     "data": {
      "text/plain": [
       "array([[343.,   0.,   4.,   1.,   3.,   1.,   1.,   1.,   5.,   0.],\n",
       "       [  0., 257.,   0.,   0.,   4.,   0.,   3.,   0.,   0.,   0.],\n",
       "       [  6.,   0., 176.,   2.,   7.,   1.,   0.,   1.,   5.,   0.],\n",
       "       [  4.,   1.,   3., 141.,   1.,  10.,   0.,   1.,   4.,   1.],\n",
       "       [  1.,   2.,   5.,   0., 185.,   2.,   2.,   1.,   0.,   2.],\n",
       "       [  4.,   0.,   0.,   9.,   1., 142.,   0.,   0.,   2.,   2.],\n",
       "       [  4.,   0.,   3.,   0.,   4.,   4., 153.,   0.,   2.,   0.],\n",
       "       [  0.,   0.,   2.,   0.,   7.,   0.,   0., 135.,   1.,   2.],\n",
       "       [  8.,   0.,   6.,   7.,   3.,   3.,   1.,   0., 138.,   0.],\n",
       "       [  0.,   0.,   0.,   2.,   5.,   0.,   0.,   1.,   0., 169.]])"
      ]
     },
     "execution_count": 16,
     "metadata": {},
     "output_type": "execute_result"
    }
   ],
   "source": [
    "model.confusion_matrix(y_test, predictions)"
   ]
  },
  {
   "cell_type": "code",
   "execution_count": 17,
   "metadata": {
    "ExecuteTime": {
     "end_time": "2018-10-31T16:26:49.031107Z",
     "start_time": "2018-10-31T16:26:49.011918Z"
    }
   },
   "outputs": [],
   "source": [
    "def show_numbers(X):\n",
    "    num_samples = 90\n",
    "    indices = np.random.choice(range(len(X)), num_samples)\n",
    "    sample_digits = X[indices]\n",
    "\n",
    "    fig = plt.figure(figsize=(20, 6))\n",
    "\n",
    "    for i in range(num_samples):\n",
    "        ax = plt.subplot(6, 15, i + 1)\n",
    "        img = 255 - sample_digits[i].reshape((16, 16))\n",
    "        plt.imshow(img, cmap='gray')\n",
    "        plt.axis('off')"
   ]
  },
  {
   "cell_type": "code",
   "execution_count": 18,
   "metadata": {
    "ExecuteTime": {
     "end_time": "2018-10-31T16:26:51.609067Z",
     "start_time": "2018-10-31T16:26:49.041196Z"
    }
   },
   "outputs": [
    {
     "data": {
      "image/png": "[encoded data removed]",
      "text/plain": [
       "<Figure size 1440x432 with 90 Axes>"
      ]
     },
     "metadata": {},
     "output_type": "display_data"
    }
   ],
   "source": [
    "misclassified = X_test[(predictions != y_test)]\n",
    "show_numbers(misclassified)"
   ]
  },
  {
   "cell_type": "markdown",
   "metadata": {},
   "source": [
    "We are doing much better, but:  \n",
    "1) Still worse than kNN  \n",
    "2) The misclassified numbers are mostly well readable for a human!"
   ]
  }
 ],
 "metadata": {
  "kernelspec": {
   "display_name": "Python 3",
   "language": "python",
   "name": "python3"
  },
  "language_info": {
   "codemirror_mode": {
    "name": "ipython",
    "version": 3
   },
   "file_extension": ".py",
   "mimetype": "text/x-python",
   "name": "python",
   "nbconvert_exporter": "python",
   "pygments_lexer": "ipython3",
   "version": "3.6.5"
  }
 },
 "nbformat": 4,
 "nbformat_minor": 2
}
